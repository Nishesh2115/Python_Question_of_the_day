{
 "cells": [
  {
   "cell_type": "markdown",
   "id": "dae36d7a",
   "metadata": {},
   "source": [
    "# PYTHON PRACTISE QUESTIONS...\n"
   ]
  },
  {
   "cell_type": "code",
   "execution_count": 7,
   "id": "e85cec01",
   "metadata": {},
   "outputs": [],
   "source": [
    "#binary search\n",
    "\n"
   ]
  },
  {
   "cell_type": "code",
   "execution_count": 42,
   "id": "b35c3546",
   "metadata": {},
   "outputs": [
    {
     "name": "stdout",
     "output_type": "stream",
     "text": [
      "120\n",
      "==============\n",
      "(1, 2, 3, 4)\n",
      "(1, 2, 3, 5)\n",
      "(1, 2, 4, 5)\n",
      "(1, 3, 4, 5)\n",
      "(2, 3, 4, 5)\n"
     ]
    }
   ],
   "source": [
    "#PERMUTATIONS AND COMBINATIONS\n",
    "\n",
    "from itertools import permutations\n",
    "from itertools import combinations\n",
    "\n",
    "a=[1,2,3,4,5]\n",
    "\n",
    "b=permutations(a)\n",
    "count=0\n",
    "for i in b:\n",
    "    #print(i)\n",
    "    count=count+1\n",
    "print(count)\n",
    "print(\"==============\")\n",
    "c=combinations(a,4)\n",
    "\n",
    "for j in c:\n",
    "    print(j)\n"
   ]
  },
  {
   "cell_type": "code",
   "execution_count": 1,
   "id": "2e15d767",
   "metadata": {},
   "outputs": [
    {
     "name": "stdout",
     "output_type": "stream",
     "text": [
      "[2, 3]\n",
      "5\n"
     ]
    },
    {
     "data": {
      "text/plain": [
       "[4, 5, 6, 2, 3]"
      ]
     },
     "execution_count": 1,
     "metadata": {},
     "output_type": "execute_result"
    }
   ],
   "source": [
    "#rotate the array\n",
    "\n",
    "def rotateArray(arr, n, d):\n",
    "    temp = []\n",
    "    i = 0\n",
    "    while (i < d):\n",
    "        temp.append(arr[i])\n",
    "        i = i + 1\n",
    "    print(temp)\n",
    "    i = 0\n",
    "    while (d < n):\n",
    "        arr[i] = arr[d]\n",
    "        i = i + 1\n",
    "        d = d + 1\n",
    "    print(arr[i])\n",
    "    arr[:] = arr[: i] + temp\n",
    "    return arr\n",
    "\n",
    "array=[2,3,4,5,6]\n",
    "de=2\n",
    "rotateArray(array,len(array),de)\n",
    "\n",
    " "
   ]
  },
  {
   "cell_type": "code",
   "execution_count": null,
   "id": "47d5da3c",
   "metadata": {},
   "outputs": [],
   "source": [
    "#1. Write a Python program to find those numbers which are divisible by 7 and multiple of 5, \n",
    "#between 1500 and 2700 (both included)\n",
    "\n",
    "i=0\n",
    "j=0\n",
    "\n",
    "while(i>1500 and j<2700):\n",
    "    if i%7==0 and i%5==0:\n",
    "        \n",
    "        \n",
    "    \n",
    "    "
   ]
  },
  {
   "cell_type": "code",
   "execution_count": 11,
   "id": "6f6b8bc6",
   "metadata": {},
   "outputs": [
    {
     "name": "stdout",
     "output_type": "stream",
     "text": [
      "8\n",
      "1\n"
     ]
    },
    {
     "data": {
      "text/plain": [
       "7"
      ]
     },
     "execution_count": 11,
     "metadata": {},
     "output_type": "execute_result"
    }
   ],
   "source": [
    "# question of the day\n",
    "#ques-1\n",
    "\n",
    "\"\"\"\n",
    "In a list, there could be multiple values, you have to return the difference between maximum and minimum value,\n",
    "without using any inbuilt function.\n",
    "\n",
    "for example---> \n",
    "\n",
    "a=[1,2,3,4]\n",
    "maximum is 4,\n",
    "minimum is 1\n",
    "\n",
    "output should be 3\n",
    "\n",
    "you have to define a function maxmin() for this problem and pass a list in that function\n",
    "\n",
    "\"\"\"\n",
    "\n",
    "\n",
    "def maxmin(a):\n",
    "    maximum=a[0]\n",
    "    minimum=a[0]\n",
    "    for i in range(0,len(a)): #time complexity is o(n) if there are n elements in list\n",
    "        if maximum<a[i]:\n",
    "            maximum=a[i]\n",
    "    print(maximum)\n",
    "        \n",
    "    \n",
    "    for i in range(0,len(a)): #timecomplexit is o(n) if there are n elements in a list\n",
    "        if minimum>a[i]:\n",
    "            minimum=a[i]\n",
    "    print(minimum)\n",
    "    \n",
    "    return maximum-minimum\n",
    "\n",
    "#total time complexity will be o(n)+o(n) which will be 2(o(n)) which will be o(n) as 2 is a constant\n",
    "#and will be ignored\n",
    "\n",
    "\n",
    "b=[2,5,1,3,8]\n",
    "maxmin(b)\n",
    "    \n",
    "           "
   ]
  },
  {
   "cell_type": "code",
   "execution_count": 1,
   "id": "20b81fd1",
   "metadata": {},
   "outputs": [
    {
     "name": "stdout",
     "output_type": "stream",
     "text": [
      "[1, 3, 4]\n"
     ]
    }
   ],
   "source": [
    "# question of the day\n",
    "#ques-2\n",
    "\n",
    "\n",
    "\n",
    "\"\"\"\n",
    "define a function duplicate() and return the duplicate elements in a list\n",
    "\n",
    "example-\n",
    "\n",
    "a=[1,1,2,3,3,4,4,5,3] (input)\n",
    "\n",
    "output= [1,3,4]\n",
    "\n",
    "\n",
    "\"\"\"\n",
    "\n",
    "def duplicate(a):\n",
    "    b=[]  #declaring a set so that there wont be repetetions in the b, a set does not allow duplicate values\n",
    "    for i in range(0,len(a)):       #time complexity o(n)\n",
    "        for j in range(i+1,len(a)): #time complexity o(n), here for is within for means overall\n",
    "                                    #time complexity is o(n^2)\n",
    "            if a[i]==a[j] and a[i] not in b :\n",
    "                b.add(a[i])\n",
    "    return b\n",
    "                \n",
    "a=[1,1,1,2,3,3,4,4,5,3]  \n",
    "\n",
    "b=list(duplicate(a))\n",
    "print(b)"
   ]
  },
  {
   "cell_type": "code",
   "execution_count": 8,
   "id": "7a8cc30c",
   "metadata": {},
   "outputs": [],
   "source": [
    "for i in range(0,5):\n",
    "    for j in range(0,5):\n",
    "        pass\n",
    "    "
   ]
  },
  {
   "cell_type": "code",
   "execution_count": 78,
   "id": "1230c860",
   "metadata": {},
   "outputs": [
    {
     "data": {
      "text/plain": [
       "'yM eman si hsehsiN'"
      ]
     },
     "execution_count": 78,
     "metadata": {},
     "output_type": "execute_result"
    }
   ],
   "source": [
    "#question of the day\n",
    "#problem-3\n",
    "\n",
    "\"\"\"\n",
    "Given a string, you need to reverse the order of characters in each word within a sentence while preserving\n",
    "white space and initial word order\n",
    "\n",
    "example-\n",
    "\n",
    "a= \"My name is Nishesh Gogia\" (thats your input)\n",
    "\n",
    "output=\"yM eman si hsehsiN aigoG\"\n",
    "\n",
    "Define a function reverse_string(), taking a string input and return the string output with reverse order\n",
    "\"\"\"\n",
    "def reverse_strings(string):\n",
    "    l=[]\n",
    "    p=string.split()\n",
    "    for i in p:\n",
    "        l.append(i[::-1])\n",
    "    return(\" \".join(l))\n",
    "\n",
    "d=\"My name is Nishesh\"\n",
    "reverse_strings(d)\n",
    "\n",
    "        "
   ]
  },
  {
   "cell_type": "code",
   "execution_count": 83,
   "id": "070c98a5",
   "metadata": {},
   "outputs": [
    {
     "data": {
      "text/plain": [
       "True"
      ]
     },
     "execution_count": 83,
     "metadata": {},
     "output_type": "execute_result"
    }
   ],
   "source": [
    "# question of the day\n",
    "#problem-4\n",
    "\n",
    "\"\"\"\n",
    "Given two list word1 and word2 with some strings inside it, return true if both list represents same string,\n",
    "false other wise\n",
    "\n",
    "example-1\n",
    "word1=[\"a\",\"bc\"]\n",
    "word2=[\"ab\",\"c\"]\n",
    "\n",
    "here because word1 has \"a\" and \"bc\"---->\"abc\"\n",
    "here because word2 has \"ab\" and \"c\"----> \"abc\"\n",
    "\n",
    "OUTPUT- TRUE\n",
    "\n",
    "example-2\n",
    "\n",
    "word1=[\"python\",\"is\",\"a\",\"language\"]\n",
    "word2=[\"pythonis\",\"alanguage\"]\n",
    "\n",
    "OUTPUT-TRUE\n",
    "\n",
    "\n",
    "\"\"\"\n",
    "\n",
    "def checkit(word1,word2):\n",
    "    if \"\".join(word1)==\"\".join(word2):\n",
    "        return True\n",
    "    \n",
    "    else:\n",
    "        return False\n",
    "    \n",
    "word1=[\"we\",\"are\",\"doing\",\"python\"]\n",
    "word2=[\"weare\",\"doingpython\"]\n",
    "\n",
    "checkit(word1,word2)"
   ]
  },
  {
   "cell_type": "code",
   "execution_count": 38,
   "id": "6e1c6ec1",
   "metadata": {},
   "outputs": [
    {
     "name": "stdout",
     "output_type": "stream",
     "text": [
      "value of a is 5\n",
      "value of b is 6\n",
      "value of c is 3\n",
      "value of d is 3\n",
      "value of e is 4\n",
      "value of f is 4\n"
     ]
    }
   ],
   "source": [
    "#question of the day\n",
    "#ques-5\n",
    "\n",
    "# we all are aware of 3 commonly used functions, \n",
    "#1. round 2. floor 3. ceil\n",
    "\n",
    "#ROUND\n",
    "a=round(5.4) #if value lies between 5.0 to 5.4, it will give 5\n",
    "b=round(5.7) #if value lies between 5.5 to 5.9, it will give 6\n",
    "print(\"value of a is\",a)\n",
    "print(\"value of b is\",b)\n",
    "\n",
    "#FLOOR\n",
    "import math\n",
    "c=math.floor(3.6)#floor will throw you to the lowest integer value 3\n",
    "d=math.floor(3.3)#floor will throw you to the lowest integer value 3\n",
    "\n",
    "print(\"value of c is\",c)\n",
    "print(\"value of d is\",d)\n",
    "\n",
    "#ceil\n",
    "e=math.ceil(3.6)#floor will throw you to the highest integer value 3\n",
    "f=math.ceil(3.3)#floor will throw you to the highest integer value 3\n",
    "\n",
    "\n",
    "print(\"value of e is\",e)\n",
    "print(\"value of f is\",f)\n",
    "\n"
   ]
  },
  {
   "cell_type": "code",
   "execution_count": 8,
   "id": "68bc138f",
   "metadata": {},
   "outputs": [
    {
     "name": "stdout",
     "output_type": "stream",
     "text": [
      "-6\n"
     ]
    }
   ],
   "source": [
    "\"\"\"\n",
    "#question 5\n",
    "\n",
    "with refernce to above functions,\n",
    "you have to implement these 3 functions from scratch...\n",
    "\n",
    "Given a number n, you have to define 3 functions \n",
    "\n",
    "1. def round() which should take any number as input\n",
    "and output must be according to the above explained output,\n",
    "lets say you get the output as (A)\n",
    "\n",
    "2. def floor() which should take any number and should throw the \n",
    "lowest integer value, lets say you get the output as (B)\n",
    "\n",
    "3. def ceil() which should take any number and should throw the \n",
    "highest integer value, lets say you get the output as (C)\n",
    "\n",
    "final output must be (A+B+C) for any integer value\n",
    "\n",
    "EXAMPLE-\n",
    "\n",
    "if i take n=5.2, round(5.2)=5--->A\n",
    "                 floor(5.2)=5--->B\n",
    "                 ceil=(5.2)=6--->C\n",
    "                 \n",
    "\n",
    "output is (A+B+C) Which is 5+5+6=16\n",
    "output is 16\n",
    "\n",
    "\n",
    "\"\"\"\n",
    "def round_A(n):\n",
    "    if n==int(n): #if n is an integer value\n",
    "        return n\n",
    "    if n>0:\n",
    "        return int(n+0.5)\n",
    "    if n<0:\n",
    "        return int(n-0.5)\n",
    "\n",
    "def floor_B(n):\n",
    "\n",
    "    if n==int(n):\n",
    "        return n\n",
    "    if n>0:\n",
    "        return int(n)\n",
    "    else:\n",
    "        return int(n-1)\n",
    "\n",
    "\n",
    "\n",
    "def ceil_C(n):\n",
    "\n",
    "    if n==int(n):\n",
    "        return n\n",
    "    if n>0:\n",
    "        return int(n+1)\n",
    "    else:\n",
    "        return int(n)\n",
    "\n",
    "A=round_A(-5.6)\n",
    "#B=floor_B(5.2)\n",
    "#C=ceil_C(5.2)\n",
    "\n",
    "print(A)\n"
   ]
  },
  {
   "cell_type": "code",
   "execution_count": 10,
   "id": "33d232a1",
   "metadata": {},
   "outputs": [
    {
     "name": "stdout",
     "output_type": "stream",
     "text": [
      "{'i', 'd', 'a', 'n', ' '}\n"
     ]
    }
   ],
   "source": [
    "#question of the day\n",
    "#ques-6\n",
    "\n",
    "#find out common letter between 2 strings\n",
    "\n",
    "\"\"\"\n",
    "Given 2 strings, string1 and string2 , you need to find the common elements/characters\n",
    "from both the strings.\n",
    "\n",
    "for example- string1=\"Rahul Gandhi\"\n",
    "             string2=\"Narendra Modi\"\n",
    "             \n",
    "Common characters between 2 strings are- {'r', ' ', 'a', 'n', 'i', 'd'}\n",
    "\n",
    "\n",
    "\"\"\"\n",
    "\n",
    "string1=\"Rahul Gandhi\"\n",
    "string2=\"Narendra Modi\"\n",
    "a=set()\n",
    "for i in string1:\n",
    "    for j in string2:\n",
    "        if i==j:\n",
    "            a.add(i)\n",
    "    \n",
    "\n",
    "print(a)\n",
    "v=(list(a))\n",
    "#v=\"\".join(v)\n",
    "#print(v)\n",
    "\n"
   ]
  },
  {
   "cell_type": "code",
   "execution_count": 53,
   "id": "721a9c49",
   "metadata": {},
   "outputs": [
    {
     "name": "stdout",
     "output_type": "stream",
     "text": [
      "True\n",
      "True\n",
      "False\n"
     ]
    }
   ],
   "source": [
    "#question of the day\n",
    "#ques7\n",
    "\n",
    "\"\"\"\n",
    "Given a number n, if n is divisible by 7, you should return TRUE\n",
    "else return False\n",
    "\n",
    "for example--\n",
    "\n",
    "if n is 49 then your function should return True\n",
    "and\n",
    "if n is 48 then your function should retunrn False\n",
    "\n",
    "\"\"\"\n",
    "\n",
    "def divisbleby7(n):\n",
    "    if n%7==0:\n",
    "        return True\n",
    "    else:\n",
    "        return False\n",
    "    \n",
    "print(divisbleby7(35))\n",
    "print(divisbleby7(21))\n",
    "print(divisbleby7(10))"
   ]
  },
  {
   "cell_type": "code",
   "execution_count": null,
   "id": "24a886cf",
   "metadata": {},
   "outputs": [],
   "source": [
    "#question of the day\n",
    "#ques8\n",
    "\n",
    "\"\"\"\n",
    "write a code in python to print this pattern\n",
    "\n",
    "* \n",
    "* * \n",
    "* * * \n",
    "* * * * \n",
    "\n",
    "\"\"\"\n",
    "\n",
    "rows = 5\n",
    "for i in range(1, rows + 1):\n",
    "    for j in range(1, i + 1):\n",
    "        print(j, end=' ')\n",
    "    print('')"
   ]
  },
  {
   "cell_type": "code",
   "execution_count": 6,
   "id": "f0e8e08c",
   "metadata": {},
   "outputs": [
    {
     "name": "stdout",
     "output_type": "stream",
     "text": [
      "32\n",
      "27\n"
     ]
    }
   ],
   "source": [
    "#question of the day\n",
    "#ques9\n",
    "\n",
    "\"\"\"\n",
    "Math library has a function pow which means power, means if i say pow(2,3) it will give you 2^3 or 2*2*2=8 or \n",
    "if i write pow(4,3) it will give you 4^3 or 4*4*4=64.\n",
    "\n",
    "We also know that we have an exponential operator where i can directly write 2**3 and it will give me 8.\n",
    "\n",
    "so your task is to define a function pow2(a,b) where i can put any natural number to a or b and it should \n",
    "return me a^b or a**b, only trick is you cant use (**) operator or exponential operator.\n",
    "\n",
    "\n",
    "\"\"\"\n",
    "#only defining when a and b are positives\n",
    "def pow2(a,b):\n",
    "    p=1\n",
    "    for i in range(0,b):\n",
    "        p=p*a\n",
    "    return p\n",
    "\n",
    "print(pow2(2,5))\n",
    "print(pow2(3,3))\n",
    "        "
   ]
  },
  {
   "cell_type": "code",
   "execution_count": 8,
   "id": "b888209d",
   "metadata": {},
   "outputs": [
    {
     "data": {
      "text/plain": [
       "'i####h@gmail.com'"
      ]
     },
     "execution_count": 8,
     "metadata": {},
     "output_type": "execute_result"
    }
   ],
   "source": [
    "#question of the day\n",
    "#ques10\n",
    "\n",
    "\"\"\"\n",
    "#masking of mail\n",
    "\n",
    "Given a mail lets say \"iamnishesh12@gmail.com\", as a developer i want to mask the characters in this mail id \n",
    "due to security concerns.\n",
    "\n",
    "example-1\n",
    "\n",
    "input --\"iamnishesh@gmail.com\"\n",
    "\n",
    "output--\"'i####h@gmail.com'\"\n",
    "\n",
    "example-2\n",
    "\n",
    "input-\"abcdefghij@gmail.com\"\n",
    "\n",
    "output-\"a####j@gmail.com\n",
    "\n",
    "\n",
    "\"\"\"\n",
    "\n",
    "# boundary case: check if email or not\n",
    "#masking\n",
    "\n",
    "s='iamnishesh@gmail.com'\n",
    "\n",
    "def maskemail(email):\n",
    "    name,domain=email.split('@')\n",
    "    return (\"{0}####{1}@{2}\".format(name[0],name[-1],domain))\n",
    "\n",
    "maskemail(s)"
   ]
  },
  {
   "cell_type": "code",
   "execution_count": 7,
   "id": "6aaeada1",
   "metadata": {},
   "outputs": [
    {
     "name": "stdout",
     "output_type": "stream",
     "text": [
      "5 5 5 5 5 \r\n",
      "5 5 5 5 \r\n",
      "5 5 5 \r\n",
      "5 5 \r\n",
      "5 \r\n"
     ]
    }
   ],
   "source": [
    "#question of the day\n",
    "#ques11\n",
    "\n",
    "\"\"\"\n",
    "Write a program to display this pattern\n",
    "\n",
    "5 5 5 5 5 \n",
    "5 5 5 5 \n",
    "5 5 5 \n",
    "5 5 \n",
    "5 \n",
    "\n",
    "\"\"\"\n",
    "\n",
    "rows = 5\n",
    "num = rows\n",
    "for i in range(rows, 0, -1):\n",
    "    for j in range(0, i):\n",
    "        print(num, end=' ')\n",
    "    print(\"\\r\")\n"
   ]
  },
  {
   "cell_type": "code",
   "execution_count": null,
   "id": "42426752",
   "metadata": {},
   "outputs": [],
   "source": [
    "#question of the day\n",
    "#ques 12\n",
    "\n",
    "\"\"\"\n",
    "you have to rotate the list, for example \n",
    "\n",
    "a=[2,3,4,5,6], we have a given list and if i want to rotote this list to two spaces to the left\n",
    "required list will be [4,5,6,2,3]\n",
    "\n",
    "you have to define a function rotate_list(n), where n is the number of rotations\n",
    "\n",
    "Other example could be\n",
    "\n",
    "input=[2,4,5,6,7,8]\n",
    "n=3\n",
    "output=[6,7,8,2,4,5]\n",
    "\"\"\"\n",
    "#rotate the array\n",
    "\n",
    "def rotateArray(arr, n, d):\n",
    "    temp = []\n",
    "    i = 0\n",
    "    while (i < d):\n",
    "        temp.append(arr[i])\n",
    "        i = i + 1\n",
    "    print(temp)\n",
    "    i = 0\n",
    "    while (d < n):\n",
    "        arr[i] = arr[d]\n",
    "        i = i + 1\n",
    "        d = d + 1\n",
    "    print(arr[i])\n",
    "    arr[:] = arr[: i] + temp\n",
    "    return arr\n",
    "\n",
    "array=[2,3,4,5,6]\n",
    "de=2\n",
    "rotateArray(array,len(array),de)"
   ]
  },
  {
   "cell_type": "code",
   "execution_count": null,
   "id": "a4ddf581",
   "metadata": {},
   "outputs": [],
   "source": [
    "#question of the day\n",
    "#ques 13\n",
    "\n",
    "\"\"\"\n",
    "you have to find the cube sum (1^3+2^3+3^3....n^3) only by recursion\n",
    "\n",
    "example if n=3\n",
    "\n",
    "1**3 + 2**3 + 3**3= 1+8+27 =36\n",
    "\n",
    "output must be 36\n",
    "\n",
    "make sure you doit by recursion and take care of all the boundary cases\n",
    "\n",
    "\"\"\"\n",
    "\n",
    "#cube sum of n natural number by recursion function\n",
    "def csum(n):\n",
    "    if n==1:\n",
    "        return 1\n",
    "    if n<1:\n",
    "        print(\"please enter a natural number...\")\n",
    "    else:\n",
    "        return (n**3)+csum(n-1)\n",
    "        \n",
    "\n"
   ]
  },
  {
   "cell_type": "code",
   "execution_count": 17,
   "id": "47087f8d",
   "metadata": {},
   "outputs": [
    {
     "data": {
      "text/plain": [
       "'palindrome found'"
      ]
     },
     "execution_count": 17,
     "metadata": {},
     "output_type": "execute_result"
    }
   ],
   "source": [
    "#question of the day\n",
    "#ques 15\n",
    "\n",
    "\"\"\"\n",
    "Given any string, you need to check whether it is a palindrome or not, \n",
    "Palindrome is ...\n",
    "\n",
    "1. tenet(read it from start or read it from end, it will be a same word)\n",
    "2. nitin is an example of palindrome\n",
    "3. mom, dad are some examples of palindrome.\n",
    "\n",
    "print(\"palindrome found\") if you find the palindrome\n",
    "\n",
    "print(\"No palindrome found\") if you did not find the palindrome\n",
    "\n",
    "you have to do it from two ways.\n",
    "\n",
    "1. Using simple slicing \n",
    "\n",
    "2. Without using slicing(by using for loop)\n",
    "\n",
    "\"\"\"\n",
    "\n",
    "def palindrome_slicing(a):\n",
    "    a=a.lower()\n",
    "    b=''\n",
    "    b=a[::-1]\n",
    "    if b == a:\n",
    "        return(\"palindrome found\")\n",
    "    else:\n",
    "        return(\"No palindrome found\")\n",
    "\n",
    "b=\"Nitin\"\n",
    "palindrome_slicing(b)\n",
    "\n",
    "\n"
   ]
  },
  {
   "cell_type": "code",
   "execution_count": 18,
   "id": "3245a8fe",
   "metadata": {},
   "outputs": [
    {
     "name": "stdout",
     "output_type": "stream",
     "text": [
      "['n', 'i', 't', 'i', 'n']\n",
      "nitin\n",
      "palindrome found\n"
     ]
    }
   ],
   "source": [
    "def palindrom_without_slicing(a):\n",
    "    a=a.lower()\n",
    "    b=[]\n",
    "    for i in range(len(a)-1,-1,-1):\n",
    "        b.append(a[i])\n",
    "    print(b)\n",
    "    print(a)\n",
    "    \n",
    "    if \"\".join(b)==a:\n",
    "        print(\"palindrome found\")\n",
    "    \n",
    "    else:\n",
    "        print(\"No palindrome found\")\n",
    "c=\"Nitin\"\n",
    "palindrom_without_slicing(c)"
   ]
  },
  {
   "cell_type": "code",
   "execution_count": 30,
   "id": "f80efee0",
   "metadata": {},
   "outputs": [
    {
     "data": {
      "text/plain": [
       "2.9999999999999996"
      ]
     },
     "execution_count": 30,
     "metadata": {},
     "output_type": "execute_result"
    }
   ],
   "source": [
    "\n",
    "\n",
    "\"\"\"\n",
    "We all have gone through dot product in our high school physics,\n",
    " dot product is also called the scaler product\n",
    "let's say there is one vector a, one vector b,now the dot product between these two is\n",
    "\n",
    "a.b=|a||b|cos(theta), where |a| is magnitude of a and |b| is the magnitude of b\n",
    "\n",
    "example-\n",
    "input \n",
    "a=[1,1,1] #vector a\n",
    "b=[1,1,1] #vector b\n",
    "theta=0 radians\n",
    "\n",
    "output\n",
    "\n",
    "\n",
    "define a function def dot(a,b, theta):\n",
    "                      return dot product\n",
    "\"\"\"\n",
    "\n",
    "import math\n",
    "def dot(a,b,theta):\n",
    "    x1=0\n",
    "    x2=0\n",
    "    for i in range(0,len(a)):\n",
    "        x1=x1+(a[i]**2)\n",
    "        x2=x2+(b[i]**2)\n",
    "    return (x1**0.5)*(x2**0.5)*math.cos(theta)\n",
    "a=[1,1,1]\n",
    "b=[1,1,1]  \n",
    "theta=0\n",
    "dot(a,b,theta)\n",
    "    "
   ]
  },
  {
   "cell_type": "code",
   "execution_count": 1,
   "id": "0678dbdd",
   "metadata": {},
   "outputs": [
    {
     "data": {
      "text/plain": [
       "\"\\nwe all have study 2 very fundamentals concepts of stats which are Mean/Median/Mode.\\n\\nLet's take an example, \\na=[5,4,3,2,1,3] #taking a list\\n\\nMean/Average= sum of observation/Total number of observation\\n\\nMean=5+4+3+2+1+3/6=18/6=3\\nso the mean is 3\\n\\nMode is just the number which occurs most frequent, for example in list a \\n\\n5 has a frequency 1\\n4 has a frequency 1\\n3 has a frequency 2\\n2 has a frequency 1\\n1 has a frequency 1\\n\\nso 3 has occured most frequenty so Mode is 3\\n\\nMedian is a bit tricy,\\nlet's say a=[5,4,3,2,1,3], now first job is to sort this in ascending order,\\nfor that you can use a.sort() function\\n\\nNow here len(a) is 6 which is an even number, for even length, median is (len(a)/2)th\\nelement which is (6/2)th =3rd element in the series.\\nafter sorting the a becomes [1,2,3,3,4,5], 3 is occuring at 3rd place so 3 is the median.\\n\\nNow for odd length, median is ((len(a)+1)/2)th element\\n\\nYOU HAVE TO MAKE THREE FUNCTIONS\\n\\ndef mean(n)#n is a list of elements\\n    return the mean of elements\\n\\ndef median(n)#n is a list of elements\\n    return the median of elements\\n    \\ndef mode(n) #n is a list of elements\\n    return the mode of elements\\n\\n\\n\""
      ]
     },
     "execution_count": 1,
     "metadata": {},
     "output_type": "execute_result"
    }
   ],
   "source": [
    "#question of the day\n",
    "\n",
    "\"\"\"\n",
    "we all have study 2 very fundamentals concepts of stats which are Mean/Median/Mode.\n",
    "\n",
    "Let's take an example, \n",
    "a=[5,4,3,2,1,3] #taking a list\n",
    "\n",
    "Mean/Average= sum of observation/Total number of observation\n",
    "\n",
    "Mean=5+4+3+2+1+3/6=18/6=3\n",
    "so the mean is 3\n",
    "\n",
    "Mode is just the number which occurs most frequent, for example in list a \n",
    "\n",
    "5 has a frequency 1\n",
    "4 has a frequency 1\n",
    "3 has a frequency 2\n",
    "2 has a frequency 1\n",
    "1 has a frequency 1\n",
    "\n",
    "so 3 has occured most frequenty so Mode is 3\n",
    "\n",
    "Median is a bit tricy,\n",
    "let's say a=[5,4,3,2,1,3], now first job is to sort this in ascending order,\n",
    "for that you can use a.sort() function\n",
    "\n",
    "Now here len(a) is 6 which is an even number, for even length, median is (len(a)/2)th\n",
    "element which is (6/2)th =3rd element in the series.\n",
    "after sorting the a becomes [1,2,3,3,4,5], 3 is occuring at 3rd place so 3 is the median.\n",
    "\n",
    "Now for odd length, median is ((len(a)+1)/2)th element\n",
    "\n",
    "YOU HAVE TO MAKE THREE FUNCTIONS\n",
    "\n",
    "def mean(n)#n is a list of elements\n",
    "    return the mean of elements\n",
    "\n",
    "def median(n)#n is a list of elements\n",
    "    return the median of elements\n",
    "    \n",
    "def mode(n) #n is a list of elements\n",
    "    return the mode of elements\n",
    "\n",
    "\n",
    "\"\"\""
   ]
  },
  {
   "cell_type": "code",
   "execution_count": 46,
   "id": "47522d70",
   "metadata": {},
   "outputs": [],
   "source": [
    "def mean(n):\n",
    "    s=0\n",
    "    for i in n:\n",
    "        s=s+i\n",
    "    return(s/len(n))\n",
    "        \n",
    "\n",
    "def median(n):\n",
    "    l=len(n)\n",
    "    if l%2==0:\n",
    "        print(\"we have even number of elements in the list\")\n",
    "        n.sort()\n",
    "        a=int(l/2)\n",
    "        return(n[a-1])# as python indexing starts from 0\n",
    "    \n",
    "    else:\n",
    "        print(\"we have odd number of elements in the list\")\n",
    "        n.sort()\n",
    "        a=int((l+1)/2)\n",
    "        return (n[a-1]) # as python indexing starts from 0\n",
    "    \n",
    "\n",
    "def mode(a):\n",
    "    d={}\n",
    "    for i in a:\n",
    "        if i in d:\n",
    "            d[i]+=1\n",
    "        else:\n",
    "            d[i]=1\n",
    "    max_element=max(d,key=d.get)\n",
    "    \n",
    "    return max_element\n",
    "    \n",
    "     \n",
    "                "
   ]
  },
  {
   "cell_type": "code",
   "execution_count": 44,
   "id": "d2007445",
   "metadata": {},
   "outputs": [
    {
     "data": {
      "text/plain": [
       "9.0"
      ]
     },
     "execution_count": 44,
     "metadata": {},
     "output_type": "execute_result"
    }
   ],
   "source": [
    "# qustion of the day\n",
    "\n",
    "\"\"\"\n",
    "lets say you have a list from 1 to n and there is one missing value in the list\n",
    "you need to find that one missing value\n",
    "\n",
    "example-1\n",
    "n=10 , n represent number of elements\n",
    "a=[1,2,3,4,5,6,7,8,10]\n",
    "\n",
    "output --> 9\n",
    "\n",
    "example -2\n",
    "\n",
    "n=9\n",
    "b=[2,3,5,7,1,6,8,9]\n",
    "\n",
    "output-->4\n",
    "you can assume that there wont be any duplicate and only one value is missing\n",
    "\n",
    "\"\"\"\n",
    "\n",
    "\n",
    "def missing_value(a,n):\n",
    "    \n",
    "    sum1=n*(n+1)/2   \n",
    "   \n",
    "\n",
    "    sum2=0\n",
    "    for i in a:     \n",
    "        sum2=sum2+i\n",
    "  \n",
    "\n",
    "\n",
    "    return(sum1-sum2) \n",
    "\n",
    "b=[1,2,3,4,5,6,7,8,10]\n",
    "n=10\n",
    "missing_value(b,n)"
   ]
  },
  {
   "cell_type": "code",
   "execution_count": null,
   "id": "020f5643",
   "metadata": {},
   "outputs": [],
   "source": [
    "#question of the day\n",
    "\n",
    "\"\"\"\n",
    "\n",
    "You are given n numbers as well as n probabilities that sum up to 1. \n",
    "Write a function to generate one of the numbers with its corresponding probability.\n",
    "\n",
    "For example, given the numbers [1, 2, 3, 4] and probabilities [0.1, 0.5, 0.2, 0.2], \n",
    "your function should return 1 10% of the time, 2 50% of the time, and 3 and 4 20% of the time.\n",
    "\n",
    "it simly means whenever you run your function, it should generate one random number out of list you have given but\n",
    "the proability of generating should be according to the probability list for example-\n",
    "\n",
    "1 should generate 10% of the times\n",
    "\n",
    "2 should generate 50% of the times\n",
    "\n",
    "3 should generate 20% of the times\n",
    " \n",
    "4 should generate 20% of the times\n",
    "\n",
    "You can generate random numbers between 0 and 1 uniformly.\n",
    "\n",
    "\"\"\""
   ]
  },
  {
   "cell_type": "code",
   "execution_count": 14,
   "id": "49f79a56",
   "metadata": {},
   "outputs": [],
   "source": [
    "from random import random\n",
    "\n",
    "def distribute(nums, probs):\n",
    "    r = random()\n",
    "    print(r)\n",
    "\n",
    "    s = 0\n",
    "    for num, prob in zip(nums, probs):\n",
    "        s += prob\n",
    "        \n",
    "        if s >= r:\n",
    "            return num"
   ]
  },
  {
   "cell_type": "code",
   "execution_count": 19,
   "id": "881277f4",
   "metadata": {},
   "outputs": [
    {
     "name": "stdout",
     "output_type": "stream",
     "text": [
      "0.5327493257119598\n"
     ]
    },
    {
     "data": {
      "text/plain": [
       "4"
      ]
     },
     "execution_count": 19,
     "metadata": {},
     "output_type": "execute_result"
    }
   ],
   "source": [
    "a=[1, 2, 3, 4,5,6]\n",
    "proba= [0.1, 0.2, 0.2, 0.2,0.1,0.2]\n",
    "\n",
    "distribute(a,proba)"
   ]
  },
  {
   "cell_type": "code",
   "execution_count": 18,
   "id": "a97e5e0b",
   "metadata": {},
   "outputs": [
    {
     "name": "stdout",
     "output_type": "stream",
     "text": [
      "0.1\n",
      "0.5\n",
      "0.7\n",
      "0.8999999999999999\n",
      "0.9999999999999999\n"
     ]
    }
   ],
   "source": [
    "nums=[1,2,3,4,5]\n",
    "probs=[0.1, 0.4, 0.2, 0.2,0.1]\n",
    "s=0\n",
    "for num, prob in zip(nums, probs):\n",
    "        s += prob\n",
    "        print(s)"
   ]
  },
  {
   "cell_type": "code",
   "execution_count": 45,
   "id": "cdff86ac",
   "metadata": {},
   "outputs": [
    {
     "data": {
      "text/plain": [
       "1.7320508075688772"
      ]
     },
     "execution_count": 45,
     "metadata": {},
     "output_type": "execute_result"
    }
   ],
   "source": [
    "# question of the day\n",
    "\n",
    "\"\"\"\n",
    "define a function which gives us euclidian distance which is distance between 2 points\n",
    "\n",
    "lets say point_1=[1,1,1]\n",
    "\n",
    "\n",
    "lets say point_2=[1,0,1]\n",
    "\n",
    "shortest distance between these two points will be\n",
    "\n",
    "sd=squareroot((1-1)^2+(1-0)^2+(1-1)^2)) which will be = squareroot(0+1+0)=1\n",
    "\n",
    "def euclidian_distance(a,b):\n",
    "         #a and b can be considered as list\n",
    "\n",
    "\n",
    "\"\"\"\n",
    "\n",
    "\n",
    "def eucldian_distance(a,b): # a and b are list\n",
    "    sum1=0\n",
    "    for i in range(0,len(a)):\n",
    "        sum1=sum1+(a[i]-b[i])**2\n",
    "    \n",
    "    return (sum1)**(1/2)\n",
    "\n",
    "\n",
    "x=[1,1,1]\n",
    "y=[0,0,0]\n",
    "eucldian_distance(x,y)"
   ]
  },
  {
   "cell_type": "code",
   "execution_count": 68,
   "id": "fc999f9f",
   "metadata": {},
   "outputs": [
    {
     "name": "stdout",
     "output_type": "stream",
     "text": [
      "{1: 3, 2: 2, 3: 2, 4: 3}\n"
     ]
    },
    {
     "data": {
      "text/plain": [
       "1"
      ]
     },
     "execution_count": 68,
     "metadata": {},
     "output_type": "execute_result"
    }
   ],
   "source": [
    "# question of the day\n",
    "\n",
    "\"\"\"\n",
    "\n",
    "SINGLE NUMBER\n",
    "\n",
    "find the element is the list which is occuring odd number of times.\n",
    "for example- \n",
    "\n",
    "a=[1,1,2,3,2,3,1]\n",
    "only 1 occurs 3 times so \n",
    "\n",
    "output=3\n",
    "\n",
    "\"\"\"\n",
    "\n",
    "def single_number(a):\n",
    "    c={}\n",
    "    for i in a:   #o(n)\n",
    "        if i in c:\n",
    "            c[i]+=1\n",
    "        else:\n",
    "            c[i]=1\n",
    "    print(c)\n",
    "    \n",
    "            \n",
    "    for i in c.keys():  #o(n)\n",
    "        if c[i]%2!=0:\n",
    "            return (i)\n",
    "\n",
    "# now this solution is of o(n) time complexity and o(n) space complexity\n",
    "\n",
    "a=[1,1,2,3,2,3,4,4,4,1]\n",
    "\n",
    "single_number(a)"
   ]
  },
  {
   "cell_type": "code",
   "execution_count": 70,
   "id": "a053dfc2",
   "metadata": {},
   "outputs": [
    {
     "data": {
      "text/plain": [
       "(1, 3)"
      ]
     },
     "execution_count": 70,
     "metadata": {},
     "output_type": "execute_result"
    }
   ],
   "source": [
    "\"\"\"\n",
    "SINGLE NUMBER\n",
    "\n",
    "o(n^2) time complexity and o(1) space complexity\n",
    "\n",
    "\"\"\"\n",
    "\n",
    "def single_number2(a):\n",
    "    for i in a:\n",
    "        count=0\n",
    "        for j in a:\n",
    "            if i==j:\n",
    "                count=count+1\n",
    "        if count%2!=0:\n",
    "            return i,count\n",
    "\n",
    "a=[1,1,2,3,2,3,4,4,4,1]\n",
    "\n",
    "single_number2(a)"
   ]
  },
  {
   "cell_type": "code",
   "execution_count": 88,
   "id": "07530f76",
   "metadata": {},
   "outputs": [
    {
     "data": {
      "text/plain": [
       "[4, 0, 1, 1, 3]"
      ]
     },
     "execution_count": 88,
     "metadata": {},
     "output_type": "execute_result"
    }
   ],
   "source": [
    "#question of the day \n",
    "\n",
    "\"\"\"\n",
    "Given the array nums, for each nums[i] find out how many numbers in the array \n",
    "are smaller than it. That is, for each nums[i] you have to count the number of \n",
    "valid j's such that j != i and nums[j] < nums[i].\n",
    "\n",
    "Return the answer in an array.\n",
    "\n",
    "Example 1:\n",
    "\n",
    "Input: nums = [8,1,2,2,3]\n",
    "\n",
    "Output: [4,0,1,1,3]\n",
    "\n",
    "Explanation: \n",
    "\n",
    "For nums[0]=8 there exist four smaller numbers than it (1, 2, 2 and 3). \n",
    "\n",
    "For nums[1]=1 does not exist any smaller number than it.\n",
    "\n",
    "For nums[2]=2 there exist one smaller number than it (1). \n",
    "\n",
    "For nums[3]=2 there exist one smaller number than it (1). \n",
    "\n",
    "For nums[4]=3 there exist three smaller numbers than it (1, 2 and 2).\n",
    "\n",
    "\n",
    "\n",
    "\"\"\"\n",
    "\n",
    "def count_smaller(a):\n",
    "    l=[]\n",
    "    for i in range(0,len(a)):\n",
    "        count=0\n",
    "        \n",
    "        for j in range(0,len(a)):\n",
    "            if a[i]>a[j]:\n",
    "                count=count+1\n",
    "        l.append(count)\n",
    "    return l\n",
    "\n",
    "a=[8,1,2,2,3]\n",
    "count_smaller(a)\n",
    "\n",
    "#o(n^2 time complexity and o(1) space complexity)"
   ]
  },
  {
   "cell_type": "code",
   "execution_count": 15,
   "id": "c977237b",
   "metadata": {},
   "outputs": [
    {
     "data": {
      "text/plain": [
       "[4, 0, 1, 1, 3]"
      ]
     },
     "execution_count": 15,
     "metadata": {},
     "output_type": "execute_result"
    }
   ],
   "source": [
    "\"\"\"\n",
    "count_smaller---> o(nlogn) time complexity and o(n) space complexity\n",
    "\"\"\"\n",
    "#sorting lets say merge sort which is o(nlogn)\n",
    "#then for loop which is o(n)\n",
    "#then again a for loop which is o(n)\n",
    "\n",
    "#total time complexity is o(n)+o(n)+o(nlogn) which is o(nlogn)\n",
    "#space complexity is o(n) because things are getting stored in dictionary\n",
    "def count_smaller2(a): \n",
    "    d={}\n",
    "    l=[]\n",
    "    for value,key in enumerate(sorted(a)):\n",
    "        if key not in d:\n",
    "            d[key]=value\n",
    "    for i in a:\n",
    "        l.append(d[i])\n",
    "    return l\n",
    "#very good solution \n",
    "\n",
    "a=[8,1,2,2,3]\n",
    "count_smaller2(a)"
   ]
  },
  {
   "cell_type": "code",
   "execution_count": 14,
   "id": "df1589ff",
   "metadata": {},
   "outputs": [
    {
     "name": "stdout",
     "output_type": "stream",
     "text": [
      "1 0\n",
      "2 1\n",
      "2 2\n",
      "3 3\n",
      "8 4\n",
      "{1: 0, 2: 1, 3: 3, 8: 4}\n"
     ]
    }
   ],
   "source": [
    "\"\"\"\n",
    "count_smaller_explanation\n",
    "\"\"\"\n",
    "d={}\n",
    "for value,key in enumerate(sorted(a)):\n",
    "    print(key,value)\n",
    "    \n",
    "    if key not in d:\n",
    "        d[key]=value\n",
    "print (d)\n",
    "    "
   ]
  },
  {
   "cell_type": "code",
   "execution_count": 21,
   "id": "d7789e46",
   "metadata": {},
   "outputs": [],
   "source": [
    "# question of the day\n",
    "\n",
    "\"\"\"\n",
    "Given an array A of non-negative integers, return an array consisting of all the even elements of A, \n",
    "followed by all the odd elements of A.\n",
    "\n",
    "You may return any answer array that satisfies this condition.\n",
    "\n",
    "Example 1:\n",
    "\n",
    "Input: [3,1,2,4]\n",
    "\n",
    "Output: [2,4,3,1]\n",
    "\n",
    "The outputs [4,2,3,1], [2,4,1,3], and [4,2,1,3] would also be accepted.\n",
    "\n",
    "\n",
    "\"\"\"\n",
    "# time complexity is just o(n) here\n",
    "def odd_even(a):\n",
    "    leven=[]\n",
    "    lodd=[]\n",
    "    for i in a:\n",
    "        if i%2==0:\n",
    "            leven.append(i)\n",
    "        else:\n",
    "            lodd.append(i)\n",
    "    return leven+lodd"
   ]
  },
  {
   "cell_type": "code",
   "execution_count": 35,
   "id": "e79db558",
   "metadata": {},
   "outputs": [
    {
     "data": {
      "text/plain": [
       "[2, 4, 6, 3, 1, 5]"
      ]
     },
     "execution_count": 35,
     "metadata": {},
     "output_type": "execute_result"
    }
   ],
   "source": [
    "a=[3,1,2,4,5,6]\n",
    "odd_even(a)"
   ]
  },
  {
   "cell_type": "code",
   "execution_count": 36,
   "id": "72b2d6da",
   "metadata": {},
   "outputs": [
    {
     "data": {
      "text/plain": [
       "[6, 4, 2, 5, 1, 3]"
      ]
     },
     "execution_count": 36,
     "metadata": {},
     "output_type": "execute_result"
    }
   ],
   "source": [
    "# can we write in o(n) time complexity and o(1) space complexity\n",
    "\n",
    "def odd_even2(a):\n",
    "    i=0\n",
    "    j=len(a)-1\n",
    "    \n",
    "    while(i<j):\n",
    "        if a[i]%2!=0:\n",
    "            a[i],a[j]=a[j],a[i]\n",
    "            j=j-1\n",
    "        else:\n",
    "            i=i+1\n",
    "            \n",
    "    return a\n",
    "\n",
    "a=[3,1,2,4,5,6]\n",
    "\n",
    "\n",
    "odd_even2(a)\n",
    "            \n",
    "            \n",
    "            \n",
    "        \n",
    "\n"
   ]
  },
  {
   "cell_type": "code",
   "execution_count": 37,
   "id": "ef36068f",
   "metadata": {},
   "outputs": [],
   "source": [
    "\"\"\"\n",
    "Problem Statement:\n",
    "\n",
    "Given two arrays of integers nums and index. Your task is to create target array under the following rules:\n",
    "\n",
    "Initially target array is empty.\n",
    "\n",
    "From left to right read nums[i] and index[i], insert at index index[i] the value nums[i] in target array.\n",
    "\n",
    "Repeat the previous step until there are no elements to read in nums and index.\n",
    "\n",
    "\n",
    "\n",
    "Return the target array.\n",
    "\n",
    "It is guaranteed that the insertion operations will be valid.\n",
    "\n",
    "Example 1:\n",
    "\n",
    "Input: nums = [0,1,2,3,4], index = [0,1,2,2,1]\n",
    "\n",
    "Output: [0,4,1,3,2]\n",
    "\n",
    "Explanation: nums index target 0 0 [0] 1 1 [0,1] 2 2 [0,1,2] 3 2 [0,1,3,2] 4 1 [0,4,1,3,2]\n",
    "\n",
    "Example 2:\n",
    "\n",
    "Input: nums = [1,2,3,4,0], index = [0,1,2,3,0]\n",
    "\n",
    "Output: [0,1,2,3,4]\n",
    "\n",
    "Explanation: nums index target 1 0 [1] 2 1 [1,2] 3 2 [1,2,3] 4 3 [1,2,3,4] 0 0 [0,1,2,3,4]\n",
    "\n",
    "Example 3:\n",
    "\n",
    "Input: nums = [1], index = [0]\n",
    "\n",
    "Output: [1]\n",
    "\"\"\"\n",
    "\n",
    "def num_index(num,index):\n",
    "    target=[]\n",
    "    \n",
    "    for i in range(0,len(num)):\n",
    "        if index[i]>=len(num):\n",
    "            target.append(num[i])\n",
    "            \n",
    "        else:\n",
    "            target.insert(index[i],num[i])\n",
    "    return target"
   ]
  },
  {
   "cell_type": "code",
   "execution_count": 38,
   "id": "3a8a3008",
   "metadata": {},
   "outputs": [
    {
     "data": {
      "text/plain": [
       "[0, 4, 1, 3, 2]"
      ]
     },
     "execution_count": 38,
     "metadata": {},
     "output_type": "execute_result"
    }
   ],
   "source": [
    "nums = [0,1,2,3,4]\n",
    "index = [0,1,2,2,1]\n",
    "#print(index[1])\n",
    "num_index(nums,index)\n"
   ]
  },
  {
   "cell_type": "code",
   "execution_count": 5,
   "id": "e48d9207",
   "metadata": {},
   "outputs": [],
   "source": [
    "\"\"\"\n",
    "#REPLACE\n",
    "\n",
    "Given an array arr, replace every element in that array with the greatest element \n",
    "among the elements to its right, and replace the last element with -1.\n",
    "\n",
    "After doing so, return the array.\n",
    "\n",
    "Example 1:\n",
    "\n",
    "Input: arr = [17,18,5,4,6,1]\n",
    "\n",
    "Output: [18,6,6,6,1,-1]\n",
    "\n",
    "Constraints:\n",
    "\n",
    "1 <= arr.length <= 10^4\n",
    "\n",
    "1 <= arr[i] <= 10^5\n",
    "\n",
    "\"\"\"\n",
    "def replace2(a):\n",
    "    for i in range(0,len(a)):\n",
    "        max1=-1\n",
    "        for j in range(i+1,len(a)):\n",
    "            if max1<a[j]:\n",
    "                max1=a[j]\n",
    "        print(max1)\n",
    "        a[i]=max1\n",
    "    return a\n",
    "\n",
    "            \n",
    "            \n",
    "    \n",
    "    \n",
    "    "
   ]
  },
  {
   "cell_type": "code",
   "execution_count": 6,
   "id": "073c51cc",
   "metadata": {},
   "outputs": [
    {
     "name": "stdout",
     "output_type": "stream",
     "text": [
      "18\n",
      "6\n",
      "6\n",
      "6\n",
      "1\n",
      "-1\n"
     ]
    },
    {
     "data": {
      "text/plain": [
       "[18, 6, 6, 6, 1, -1]"
      ]
     },
     "execution_count": 6,
     "metadata": {},
     "output_type": "execute_result"
    }
   ],
   "source": [
    "a=[17,18,5,4,6,1]\n",
    "replace2(a)"
   ]
  },
  {
   "cell_type": "code",
   "execution_count": 7,
   "id": "3cf79e9c",
   "metadata": {},
   "outputs": [
    {
     "ename": "SyntaxError",
     "evalue": "invalid syntax (<ipython-input-7-39d8e5ab850b>, line 32)",
     "output_type": "error",
     "traceback": [
      "\u001b[0;36m  File \u001b[0;32m\"<ipython-input-7-39d8e5ab850b>\"\u001b[0;36m, line \u001b[0;32m32\u001b[0m\n\u001b[0;31m    if a=a.sorted\u001b[0m\n\u001b[0m        ^\u001b[0m\n\u001b[0;31mSyntaxError\u001b[0m\u001b[0;31m:\u001b[0m invalid syntax\n"
     ]
    }
   ],
   "source": [
    "# question of the day\n",
    "\n",
    "\"\"\"\n",
    "Problem Statement:\n",
    "\n",
    "Given an integer array, you need to find one continuous subarray that if you only sort \n",
    "this subarray in ascending order, then the whole array will be sorted in ascending order, too.\n",
    "\n",
    "You need to find the shortest such subarray and output its length.\n",
    "\n",
    "Example 1:\n",
    "\n",
    "Input: [2, 6, 4, 8, 10, 9, 15] \n",
    "\n",
    "Output: 5 \n",
    "\n",
    "Explanation: You need to sort [6, 4, 8, 10, 9] in ascending order to make the whole array sorted in ascending order. \n",
    "Note:\n",
    "\n",
    "\n",
    "\n",
    "\n",
    "Then length of the input array is in range [1, 10,000].\n",
    "\n",
    "The input array may contain duplicates, so ascending order here means <=.\n",
    "\n",
    "\n",
    "\n",
    "\"\"\"\n",
    "\n",
    "def subarray(a):\n",
    "    if a==sorted(a):\n",
    "        return print(\"array is already sorted, length of subarray is 0\")\n",
    "    else:\n",
    "        "
   ]
  },
  {
   "cell_type": "code",
   "execution_count": 10,
   "id": "1873326f",
   "metadata": {},
   "outputs": [
    {
     "name": "stdout",
     "output_type": "stream",
     "text": [
      "[1, 2, 3, 4, 5, 6]\n"
     ]
    }
   ],
   "source": [
    "a=[1,2,3,5,6,4]\n",
    "print(sorted(a))"
   ]
  },
  {
   "cell_type": "code",
   "execution_count": 3,
   "id": "3280baee",
   "metadata": {},
   "outputs": [
    {
     "name": "stdout",
     "output_type": "stream",
     "text": [
      "4 5\n",
      "5 4\n"
     ]
    }
   ],
   "source": [
    "a=[1,2,3,4,5,9]\n",
    "b=[1,2,3,5,4,9]\n",
    "\n",
    "\n",
    "for i,j in zip(a,b):\n",
    "    if i-j!=0:\n",
    "        (i,j)"
   ]
  },
  {
   "cell_type": "code",
   "execution_count": 35,
   "id": "b7195550",
   "metadata": {},
   "outputs": [],
   "source": [
    "#question of the day\n",
    "#gave a very hard time\n",
    "\"\"\"\n",
    "Find the leaders in the array\n",
    "\n",
    "i/p1-[8,4,2,3,1,5,4,2]\n",
    "o/p1-[8,5,4,2]\n",
    "\n",
    "i/p2-[10,6,3,1,7,9]\n",
    "o/p2-[10,6,9]\n",
    "\"\"\"\n",
    "\n",
    "def find_leaders(a):\n",
    "    leaders=[]\n",
    "    for i in range(0,len(a)):\n",
    "        for j in range(i+1,len(a)):\n",
    "            if a[i]<a[j]:\n",
    "                break\n",
    "        if j==len(a)-1:\n",
    "            leaders.append(a[i])\n",
    "    return leaders\n",
    "        \n",
    "            \n",
    "        \n",
    "                \n",
    "            \n",
    "                "
   ]
  },
  {
   "cell_type": "code",
   "execution_count": 37,
   "id": "7d332057",
   "metadata": {},
   "outputs": [
    {
     "data": {
      "text/plain": [
       "[5, 6]"
      ]
     },
     "execution_count": 37,
     "metadata": {},
     "output_type": "execute_result"
    }
   ],
   "source": [
    "a=[1,2,3,4,5,6]\n",
    "find_leaders(a)\n"
   ]
  },
  {
   "cell_type": "code",
   "execution_count": 1,
   "id": "3e838851",
   "metadata": {},
   "outputs": [],
   "source": [
    "def maximum(a):\n",
    "    max1=0\n",
    "    for i in range(0,len(a)):\n",
    "        if max1<a[i]:\n",
    "            max1=a[i]\n",
    "    return max1"
   ]
  },
  {
   "cell_type": "code",
   "execution_count": 2,
   "id": "6d09790a",
   "metadata": {},
   "outputs": [
    {
     "data": {
      "text/plain": [
       "12"
      ]
     },
     "execution_count": 2,
     "metadata": {},
     "output_type": "execute_result"
    }
   ],
   "source": [
    "a=[2,3,4,5,12]\n",
    "maximum(a)"
   ]
  },
  {
   "cell_type": "code",
   "execution_count": 5,
   "id": "aa5ee6af",
   "metadata": {},
   "outputs": [],
   "source": [
    "def even(a):\n",
    "    count=0\n",
    "    for i in range(0,len(a)):\n",
    "        if i%2==0:\n",
    "            count=count+1\n",
    "    return count"
   ]
  },
  {
   "cell_type": "code",
   "execution_count": 6,
   "id": "fba1163e",
   "metadata": {},
   "outputs": [
    {
     "data": {
      "text/plain": [
       "3"
      ]
     },
     "execution_count": 6,
     "metadata": {},
     "output_type": "execute_result"
    }
   ],
   "source": [
    "a=[2,3,4,5,1,6]\n",
    "even(a)"
   ]
  },
  {
   "cell_type": "code",
   "execution_count": null,
   "id": "1c2ff6d7",
   "metadata": {},
   "outputs": [],
   "source": []
  }
 ],
 "metadata": {
  "kernelspec": {
   "display_name": "Python 3",
   "language": "python",
   "name": "python3"
  },
  "language_info": {
   "codemirror_mode": {
    "name": "ipython",
    "version": 3
   },
   "file_extension": ".py",
   "mimetype": "text/x-python",
   "name": "python",
   "nbconvert_exporter": "python",
   "pygments_lexer": "ipython3",
   "version": "3.8.8"
  }
 },
 "nbformat": 4,
 "nbformat_minor": 5
}
